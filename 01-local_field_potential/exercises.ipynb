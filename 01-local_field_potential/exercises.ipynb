{
 "cells": [
  {
   "cell_type": "markdown",
   "metadata": {},
   "source": [
    "# Exercises"
   ]
  },
  {
   "attachments": {},
   "cell_type": "markdown",
   "metadata": {},
   "source": [
    "## Exercise 1: explore filter parameters\n",
    "---\n",
    "- Import data\n",
    "- Filter data in narrower/broader frequency band\n",
    "- Try different filter order, comment on effect on final signal and time of filtering"
   ]
  },
  {
   "attachments": {},
   "cell_type": "markdown",
   "metadata": {},
   "source": [
    "## Exercise 2: wavelet transform with real wavelets\n",
    "---\n",
    "- Import data\n",
    "- Try wavelet transform of a 1s period of the signal with wavelet '','' and ''. this are all real wavelet.\n",
    "- How does the spectrum look different? Could you say why? \n",
    "Hint: think about the interpretation of the wavelet transform as a convolution."
   ]
  },
  {
   "attachments": {},
   "cell_type": "markdown",
   "metadata": {},
   "source": [
    "## Exercise 3: REM sleep detection\n",
    "---\n",
    "\n",
    "- import data\n",
    "- compute theta and delta frequency powers\n",
    "- compute their ratio and plot its time series\n",
    "- isolate REM and NREM peirods\n",
    "- Plot examples of REM vs NREM lfp"
   ]
  }
 ],
 "metadata": {
  "kernelspec": {
   "display_name": "Python 3.8.9 64-bit",
   "language": "python",
   "name": "python3"
  },
  "language_info": {
   "codemirror_mode": {
    "name": "ipython",
    "version": 3
   },
   "file_extension": ".py",
   "mimetype": "text/x-python",
   "name": "python",
   "nbconvert_exporter": "python",
   "pygments_lexer": "ipython3",
   "version": "3.8.9 (default, Feb 18 2022, 07:45:33) \n[Clang 13.1.6 (clang-1316.0.21.2)]"
  },
  "vscode": {
   "interpreter": {
    "hash": "31f2aee4e71d21fbe5cf8b01ff0e069b9275f58929596ceb00d14d90e3e16cd6"
   }
  }
 },
 "nbformat": 4,
 "nbformat_minor": 4
}
